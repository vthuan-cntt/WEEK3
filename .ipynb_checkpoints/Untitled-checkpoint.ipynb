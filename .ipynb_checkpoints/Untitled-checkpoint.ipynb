{
 "cells": [
  {
   "cell_type": "code",
   "execution_count": 11,
   "metadata": {},
   "outputs": [
    {
     "name": "stdout",
     "output_type": "stream",
     "text": [
      "eigenvalues are:\n",
      " [0.17157288 5.82842712 2.        ]\n",
      "eigenvectors are \n",
      " [[-0.92387953  0.38268343  0.        ]\n",
      " [-0.38268343 -0.92387953  0.        ]\n",
      " [ 0.          0.          1.        ]]\n"
     ]
    }
   ],
   "source": [
    "import numpy as np\n",
    "from numpy import linalg as LA\n",
    "\n",
    "C = np.array([[1, -2, 0],\n",
    "              [-2, 5, 0],\n",
    "              [0, 0, 2]])\n",
    "eigVal, eigVect=LA.eig(C)\n",
    "print('eigenvalues are:\\n', eigVal)\n",
    "print('eigenvectors are \\n',eigVect)"
   ]
  },
  {
   "cell_type": "code",
   "execution_count": null,
   "metadata": {},
   "outputs": [],
   "source": []
  }
 ],
 "metadata": {
  "kernelspec": {
   "display_name": "Python 3",
   "language": "python",
   "name": "python3"
  },
  "language_info": {
   "codemirror_mode": {
    "name": "ipython",
    "version": 3
   },
   "file_extension": ".py",
   "mimetype": "text/x-python",
   "name": "python",
   "nbconvert_exporter": "python",
   "pygments_lexer": "ipython3",
   "version": "3.7.0"
  }
 },
 "nbformat": 4,
 "nbformat_minor": 4
}
